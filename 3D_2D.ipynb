# /home/ubuntu/data_process/3D_T_2D/ply/Huang Mu xi.ply
#兴趣区域的提取
import open3d as o3d

# 读取PLY文件
pcd = o3d.io.read_point_cloud("/home/ubuntu/data_process/3D_T_2D/ply/Huang Mu xi.ply")

# 为了方便可视化，将点云旋转90度
# pcd.rotate([0, -np.pi/2, 0])
# 获取bounding box信息

bbox = pcd.get_axis_aligned_bounding_box()
min_bound = bbox.min_bound
max_bound = bbox.max_bound

# 设置感兴趣的区域
xmin, ymin, zmin = min_bound[0], min_bound[1], min_bound[2]
xmax, ymax, zmax = max_bound[0], max_bound[1], max_bound[2]


# 可以根据实际需求，对bounding box进行缩放
# scale = 0.7
xmin, ymin, zmin = xmin , ymin , zmin*0.7
xmax, ymax, zmax = xmax , ymax*0.7 , zmax 
# 获取所有点
points = np.asarray(pcd.points)

# 找到落在感兴趣区域内的点
mask = (points[:, 0] >= xmin) & (points[:, 0] <= xmax) & (points[:, 1] >= ymin) & (points[:, 1] <= ymax) & (points[:, 2] >= zmin) & (points[:, 2] <= zmax)
selected_points = points[mask]


# # 为了方便可视化，将点云旋转90度
# pcd.rotate([0, -np.pi/2, 0])
# 创建新的点云对象
selected_pcd = o3d.geometry.PointCloud()
selected_pcd.points = o3d.utility.Vector3dVector(selected_points)

# 保存点云
o3d.io.write_point_cloud("./ply_roi/selected_head_model.ply", selected_pcd)
