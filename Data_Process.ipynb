{
 "cells": [
  {
   "attachments": {},
   "cell_type": "markdown",
   "metadata": {},
   "source": [
    "## 格式转换"
   ]
  },
  {
   "cell_type": "code",
   "execution_count": null,
   "metadata": {
    "vscode": {
     "languageId": "python"
    }
   },
   "outputs": [],
   "source": [
    "import os\n",
    "import SimpleITK\n",
    "import numpy as np\n",
    "import cv2\n",
    "from tqdm import tqdm\n",
    "import shutil\n",
    " \n",
    "def convert_from_dicom_to_jpg(img,low_window,high_window,save_path):\n",
    "    lungwin = np.array([low_window*1.,high_window*1.])\n",
    "    newimg = (img-lungwin[0])/(lungwin[1]-lungwin[0])    #归一化\n",
    "    newimg = (newimg*255).astype('uint8')                #将像素值扩展到[0,255]\n",
    "    stacked_img = np.stack((newimg,) * 3, axis=-1)\n",
    "    cv2.imwrite(save_path, stacked_img, [int(cv2.IMWRITE_JPEG_QUALITY), 100])\n",
    " \n",
    "if __name__ == '__main__':\n",
    "\t#dicom文件目录\n",
    "    dicom_dir = '/home/ubuntu/data/CT_data/normal/0t2/Dong Li Jun Zhi Zi78486289/20210106141722/601'\n",
    " \n",
    "    path = \"/home/ubuntu/data/CT_Data/\"\n",
    "    if os.path.exists(path):\n",
    "        shutil.rmtree(path)\n",
    "    os.makedirs(path)\n",
    "\n",
    "    for i in tqdm(os.listdir(dicom_dir)):\n",
    "        dcm_image_path = os.path.join(dicom_dir,i)  # 读取dicom文件\n",
    "        name, _ = os.path.splitext(i)\n",
    "        output_jpg_path = os.path.join(path, name+'.png')\n",
    "        ds_array = SimpleITK.ReadImage(dcm_image_path)  # 读取dicom文件的相关信息\n",
    "        img_array = SimpleITK.GetArrayFromImage(ds_array)  # 获取array\n",
    "        # SimpleITK读取的图像数据的坐标顺序为zyx，即从多少张切片到单张切片的宽和高，此处我们读取单张，因此img_array的shape\n",
    "        # 类似于 （1，height，width）的形式\n",
    "        shape = img_array.shape\n",
    "        img_array = np.reshape(img_array, (shape[1], shape[2]))  # 获取array中的height和width\n",
    "        high = np.max(img_array)\n",
    "        low = np.min(img_array)\n",
    "        convert_from_dicom_to_jpg(img_array, low, high, output_jpg_path)  # 调用函数，转换成jpg文件并保存到对应的路径"
   ]
  },
  {
   "cell_type": "markdown",
   "metadata": {},
   "source": [
    "## 边缘提取"
   ]
  },
  {
   "cell_type": "markdown",
   "metadata": {},
   "source": [
    "### 边缘检测结果"
   ]
  },
  {
   "cell_type": "code",
   "execution_count": 38,
   "metadata": {
    "vscode": {
     "languageId": "python"
    }
   },
   "outputs": [],
   "source": [
    "##canny检测算子\n",
    "import os\n",
    "import numpy as np\n",
    "import cv2\n",
    "src_dir='/home/ubuntu/data_process/contour/N_unet'\n",
    "files = os.listdir(src_dir)\n",
    "i=0\n",
    "for s in files:\n",
    "    img = cv2.imread(src_dir + '/' + s, 0)\n",
    "    ret2, th2 = cv2.threshold(img,0,255,cv2.THRESH_BINARY+cv2.THRESH_OTSU)\n",
    "    N_Otus=cv2.Canny(th2, 50, 100, (3, 3))\n",
    "    img_path = \"/home/ubuntu/data_process/CT_Result/N/\" + s\n",
    "    cv2.imwrite(img_path, N_Otus) \n",
    "    i+=1"
   ]
  },
  {
   "cell_type": "code",
   "execution_count": 37,
   "metadata": {
    "vscode": {
     "languageId": "python"
    }
   },
   "outputs": [
    {
     "data": {
      "text/plain": [
       "(Text(0.5, 1.0, 'N_Otus'), ([], []), ([], []))"
      ]
     },
     "execution_count": 37,
     "metadata": {},
     "output_type": "execute_result"
    },
    {
     "data": {
      "image/png": "[encoded data removed]",
      "text/plain": [
       "<Figure size 640x480 with 2 Axes>"
      ]
     },
     "metadata": {},
     "output_type": "display_data"
    }
   ],
   "source": [
    "# /home/ubuntu/DeepLearning/U-net/Pytorch-UNet/N_grey_OUT.png\n",
    "import os\n",
    "import numpy\n",
    "import cv2\n",
    "\n",
    "img = cv2.imread(\"/home/ubuntu/data_process/contour/N_unet/N.6.png\",0)\n",
    "ret2, th2 = cv2.threshold(img, 0, 255, cv2.THRESH_BINARY+cv2.THRESH_OTSU)\n",
    "N_Otus=cv2.Canny(th2, 50, 100, (3, 3))\n",
    "\n",
    "\n",
    "# img = cv2.imread('/home/ubuntu/data_process/contour/C/C_Otus.2.png')\n",
    "# gray = cv2.cvtColor(img, cv2.COLOR_BGR2GRAY)\n",
    "# mask = cv2.threshold(gray, 20, 255, cv2.THRESH_BINARY)[1]\n",
    "\n",
    "plt.subplot(121),plt.imshow(img,cmap = 'gray')\n",
    "plt.title('img'), plt.xticks([]), plt.yticks([])\n",
    "plt.subplot(122),plt.imshow(N_Otus,cmap = 'gray')\n",
    "plt.title('N_Otus'), plt.xticks([]), plt.yticks([])\n"
   ]
  },
  {
   "attachments": {},
   "cell_type": "markdown",
   "metadata": {},
   "source": [
    "### 区域生长算法"
   ]
  },
  {
   "cell_type": "code",
   "execution_count": 9,
   "metadata": {
    "vscode": {
     "languageId": "python"
    }
   },
   "outputs": [],
   "source": [
    "\n",
    "import numpy as np\n",
    "import cv2\n",
    "\n",
    "class Point(object):\n",
    "    def __init__(self,x,y):\n",
    "        self.x = x\n",
    "        self.y = y\n",
    " \n",
    "    def getX(self):\n",
    "        return self.x\n",
    "    def getY(self):\n",
    "        return self.y\n",
    " \n",
    "def getGrayDiff(img,currentPoint,tmpPoint):\n",
    "    return abs(int(img[currentPoint.x,currentPoint.y]) - int(img[tmpPoint.x,tmpPoint.y]))\n",
    " \n",
    "def selectConnects(p):\n",
    "    if p != 0:\n",
    "        connects = [Point(-1, -1), Point(0, -1), Point(1, -1), Point(1, 0), Point(1, 1), \\\n",
    "                    Point(0, 1), Point(-1, 1), Point(-1, 0)]\n",
    "    else:\n",
    "        connects = [ Point(0, -1),  Point(1, 0),Point(0, 1), Point(-1, 0)]\n",
    "    return connects\n",
    " \n",
    "def regionGrow(img,seeds,thresh,p = 1):\n",
    "    height, weight = img.shape\n",
    "    seedMark = np.zeros(img.shape)\n",
    "    seedList = []\n",
    "    for seed in seeds:\n",
    "        seedList.append(seed)\n",
    "    label = 1\n",
    "    connects = selectConnects(p)\n",
    "    while(len(seedList)>0):\n",
    "        currentPoint = seedList.pop(0)\n",
    " \n",
    "        seedMark[currentPoint.x,currentPoint.y] = label\n",
    "        for i in range(8):\n",
    "            tmpX = currentPoint.x + connects[i].x\n",
    "            tmpY = currentPoint.y + connects[i].y\n",
    "            if tmpX < 0 or tmpY < 0 or tmpX >= height or tmpY >= weight:\n",
    "                continue\n",
    "            grayDiff = getGrayDiff(img,currentPoint,Point(tmpX,tmpY))\n",
    "            if grayDiff < thresh and seedMark[tmpX,tmpY] == 0:\n",
    "                seedMark[tmpX,tmpY] = label\n",
    "                seedList.append(Point(tmpX,tmpY))\n",
    "    return seedMark\n",
    " \n",
    " \n",
    "img = cv2.imread('/home/ubuntu/data_process/contour/N/N_.2141.png',0)\n",
    "# img_save_path='/home/ubuntu/data_process/result'\n",
    "seeds = [Point(10,10),Point(82,150),Point(20,300)]\n",
    "binaryImg = regionGrow(img,seeds,10)\n",
    "# cv2.imshow(' ',binaryImg)\n",
    "# # cv2.waitKey(0)\n",
    "# imsave(img_save_path, binaryImg)\n",
    "# plt.subplot(121),plt.imshow(canny_OTU,cmap = 'gray')\n",
    "# plt.title('canny_OTU'), plt.xticks([]), plt.yticks([])\n",
    "# plt.subplot(122),plt.imshow(binaryImg,cmap = 'gray')\n",
    "# plt.title('OUTIMAGE'), plt.xticks([]), plt.yticks([])"
   ]
  },
  {
   "cell_type": "code",
   "execution_count": 18,
   "metadata": {
    "vscode": {
     "languageId": "python"
    }
   },
   "outputs": [
    {
     "data": {
      "text/plain": [
       "(Text(0.5, 1.0, 'canny_OTU'), ([], []), ([], []))"
      ]
     },
     "execution_count": 18,
     "metadata": {},
     "output_type": "execute_result"
    },
    {
     "data": {
      "image/png": "[encoded data removed]",
      "text/plain": [
       "<Figure size 640x480 with 1 Axes>"
      ]
     },
     "metadata": {},
     "output_type": "display_data"
    }
   ],
   "source": [
    "import matplotlib.pyplot as plt\n",
    "import cv2\n",
    "img = cv2.imread('/home/ubuntu/DeepLearning/U-net/Pytorch-UNet/N_grey_OUT.png')\n",
    "# ret2, th2 = cv2.threshold(binaryImg, 0, 255, cv2.THRESH_BINARY+cv2.THRESH_OTSU)\n",
    "canny_OTU=cv2.Canny(img, 50, 100, (3, 3))\n",
    "# img_path = \"/home/ubuntu/data_process/CT_Result/N/\" + \"N_.\"+\".png\"\n",
    "# cv2.imwrite(img_path, binaryImg*255) \n",
    "plt.subplot(111),plt.imshow(canny_OTU,cmap = 'gray')\n",
    "plt.title('canny_OTU'), plt.xticks([]), plt.yticks([])"
   ]
  },
  {
   "attachments": {},
   "cell_type": "markdown",
   "metadata": {},
   "source": [
    "### 最大联通区域"
   ]
  },
  {
   "cell_type": "code",
   "execution_count": 1,
   "metadata": {
    "vscode": {
     "languageId": "python"
    }
   },
   "outputs": [
    {
     "data": {
      "text/plain": [
       "(Text(0.5, 1.0, 'OUTIMAGE'), ([], []), ([], []))"
      ]
     },
     "execution_count": 1,
     "metadata": {},
     "output_type": "execute_result"
    },
    {
     "data": {
      "image/png": "[encoded data removed]",
      "text/plain": [
       "<Figure size 640x480 with 2 Axes>"
      ]
     },
     "metadata": {},
     "output_type": "display_data"
    }
   ],
   "source": [
    "import numpy as np\n",
    "import cv2\n",
    "import matplotlib.pyplot as plt\n",
    "\n",
    "def select_max_region(mask):\n",
    "    nums, labels, stats, centroids = cv2.connectedComponentsWithStats(mask, connectivity=8)\n",
    "    background = 0\n",
    "    for row in range(stats.shape[0]):\n",
    "        if stats[row, :][0] == 0 and stats[row, :][1] == 0:\n",
    "            background = row\n",
    "    stats_no_bg = np.delete(stats, background, axis=0)\n",
    "    max_idx = stats_no_bg[:, 4].argmax()\n",
    "    max_region = np.where(labels==max_idx+1, 1, 0)\n",
    "\n",
    "    return max_region\n",
    "\n",
    "\n",
    "img = cv2.imread('/home/ubuntu/data_process/3D_T_2D/ply_png/selected_head_model_roi.png')\n",
    "gray = cv2.cvtColor(img, cv2.COLOR_BGR2GRAY)\n",
    "mask = cv2.threshold(gray, 20, 255, cv2.THRESH_BINARY)[1]\n",
    "mask = select_max_region(mask)*255\n",
    "plt.subplot(121),plt.imshow(img,cmap = 'gray')\n",
    "plt.title('img'), plt.xticks([]), plt.yticks([])\n",
    "plt.subplot(122),plt.imshow(mask,cmap = 'gray')\n",
    "plt.title('OUTIMAGE'), plt.xticks([]), plt.yticks([])\n",
    "# cv2.imwrite('/Users/nickccnie/Desktop/images1.png', mask*255)\n"
   ]
  },
  {
   "cell_type": "code",
   "execution_count": 51,
   "metadata": {
    "vscode": {
     "languageId": "python"
    }
   },
   "outputs": [],
   "source": [
    "### 批量处理并保存到文件夹\n",
    "#批量处理\n",
    "import os\n",
    "import numpy as np\n",
    "import cv2\n",
    "import matplotlib.pyplot as plt\n",
    "\n",
    "\n",
    "def select_max_region(mask):\n",
    "    nums, labels, stats, centroids = cv2.connectedComponentsWithStats(mask, connectivity=8)\n",
    "    background = 0\n",
    "    for row in range(stats.shape[0]):\n",
    "        if stats[row, :][0] == 0 and stats[row, :][1] == 0:\n",
    "            background = row\n",
    "    stats_no_bg = np.delete(stats, background, axis=0)\n",
    "    max_idx = stats_no_bg[:, 4].argmax()\n",
    "    max_region = np.where(labels==max_idx+1, 1, 0)\n",
    "\n",
    "    return max_region\n",
    "\n",
    "src_dir='/home/ubuntu/data_process/CT_Result/N_unet'\n",
    "files = os.listdir(src_dir)\n",
    "i=0\n",
    "for s in files:\n",
    "    img = cv2.imread(src_dir + '/' + s, 0)\n",
    "    # img = cv2.imread('/home/ubuntu/data_process/contour/C_Otus.10.png')\n",
    "    # gray = cv2.cvtColor(img, cv2.COLOR_BGR2GRAY)\n",
    "    # gray = cv2.cvtColor(img, cv2.COLOR_BGR2GRAY)\n",
    "    # mask = cv2.threshold(img, 20, 255, cv2.THRESH_BINARY)[1]\n",
    "    mask =cv2.threshold(img, 0, 255, cv2.THRESH_BINARY+cv2.THRESH_OTSU)[1]\n",
    "    mask = select_max_region(mask)*255\n",
    "    img_path = \"/home/ubuntu/data_process/CT_Result/N/\" + s\n",
    "    cv2.imwrite(img_path, mask) \n",
    "    i+=1"
   ]
  },
  {
   "cell_type": "code",
   "execution_count": 23,
   "metadata": {
    "vscode": {
     "languageId": "python"
    }
   },
   "outputs": [],
   "source": [
    "import cv2\n",
    "# import matplotlib.pyplot as plt\n",
    "\n",
    "import os\n",
    "#read image\n",
    "\n",
    "src_dir='/home/ubuntu/data_process/dcm_2_png/N'\n",
    "files = os.listdir(src_dir)\n",
    "i=0\n",
    "for s in files:\n",
    "# Otsu阈值 自动获取全局阈值,即无需手动决定阈值大小,阈值thresh大小默认0即可\n",
    "    img_grey = cv2.imread(src_dir + '/' + s, cv2.IMREAD_GRAYSCALE)\n",
    "    ret,otsu_thresh1 = cv2.threshold(img_grey,0,255,cv2.THRESH_BINARY+cv2.THRESH_OTSU)\n",
    "    save_path=\"/home/ubuntu/data_process/dataset/N/\"+\"N.\"+str(i)+'.png'\n",
    "    cv2.imwrite(save_path,otsu_thresh1)\n",
    "    i+=1"
   ]
  },
  {
   "cell_type": "code",
   "execution_count": 1,
   "metadata": {
    "vscode": {
     "languageId": "python"
    }
   },
   "outputs": [
    {
     "ename": "NameError",
     "evalue": "name 's' is not defined",
     "output_type": "error",
     "traceback": [
      "\u001b[0;31m---------------------------------------------------------------------------\u001b[0m",
      "\u001b[0;31mNameError\u001b[0m                                 Traceback (most recent call last)",
      "\u001b[0;32m/tmp/ipykernel_75292/1028141915.py\u001b[0m in \u001b[0;36m<module>\u001b[0;34m\u001b[0m\n\u001b[0;32m----> 1\u001b[0;31m \u001b[0ms\u001b[0m\u001b[0;34m\u001b[0m\u001b[0;34m\u001b[0m\u001b[0m\n\u001b[0m",
      "\u001b[0;31mNameError\u001b[0m: name 's' is not defined"
     ]
    }
   ],
   "source": []
  },
  {
   "attachments": {},
   "cell_type": "markdown",
   "metadata": {},
   "source": [
    "## 图片相似查询"
   ]
  },
  {
   "cell_type": "code",
   "execution_count": null,
   "metadata": {
    "vscode": {
     "languageId": "python"
    }
   },
   "outputs": [],
   "source": [
    "import cv2\n",
    "import numpy as np\n",
    "import os\n",
    "img1 = cv2.imread('/home/ubuntu/data_process/CT_Result/C/C_11.png', 0)\n",
    "ret, thresh1 = cv2.threshold(img1, 127, 255, 0)\n",
    "contours, hierarchy = cv2.findContours(thresh1, 2, 1)\n",
    "cnt1 = contours[0]\n",
    "src_dir='/home/ubuntu/data_process/CT_Result/C'\n",
    "files = os.listdir(src_dir)\n",
    "i=0\n",
    "for s in files:\n",
    "    img2 = cv2.imread(src_dir + '/' + s, 0)\n",
    "    ret, thresh2 = cv2.threshold(img2, 127, 255, 0)\n",
    "    contours, hierarchy = cv2.findContours(thresh2, 2, 1)\n",
    "    cnt2 = contours[0]\n",
    "    ret = cv2.matchShapes(cnt1, cnt2, 1, 0.0)\n",
    "    # img = cv2.imread('/home/ubuntu/data_process/contour/C_Otus.10.png')\n",
    "    # gray = cv2.cvtColor(img, cv2.COLOR_BGR2GRAY)\n",
    "    # 越相近，数越小，轮廓大小最好相当\n",
    "    if ret<0.2:\n",
    "       print(\"ret\"+str(i),ret)\n",
    "       img_path = \"/home/ubuntu/data_process/dataset/C/\" + \"C_\"+str(i) +\".png\"\n",
    "       cv2.imwrite(img_path, img2)\n",
    "       \n",
    "    i+=1\n",
    "    "
   ]
  },
  {
   "cell_type": "code",
   "execution_count": 137,
   "metadata": {
    "vscode": {
     "languageId": "python"
    }
   },
   "outputs": [],
   "source": [
    "#制作mask\n",
    "import os\n",
    "import cv2\n",
    "import numpy as np\n",
    "   # 1.导入图片\n",
    "# img_src = cv2.imread('/home/ubuntu/DeepLearning/U-net/Pytorch-UNet/data/masks/C.0_mask.png')\n",
    "src_dir='/home/ubuntu/data_process/CT_Result/N_raw'\n",
    "files = os.listdir(src_dir)\n",
    "i=0\n",
    "for s in files:\n",
    "    img = cv2.imread(src_dir + '/' + s)\n",
    "       # 2.灰度处理与二值化\n",
    "    img_gray = cv2.cvtColor(img, cv2.COLOR_BGR2GRAY)\n",
    "    ret, img_bin = cv2.threshold(img_gray, 127, 255, cv2.THRESH_BINARY)\n",
    "     # 3.连通域分析\n",
    "    contours, hierarchy = cv2.findContours(img_bin, cv2.RETR_EXTERNAL,cv2.CHAIN_APPROX_SIMPLE)\n",
    "\n",
    "    # 4.制作掩膜图片\n",
    "    img_mask = np.zeros(img.shape, np.uint8)\n",
    "    img_result=cv2.drawContours(img_mask, contours, -1, (0, 0, 255), -1)\n",
    "    img_path = \"/home/ubuntu/data_process/CT_Result/N/\" + s\n",
    "    cv2.imwrite(img_path, img_result) \n",
    "    i+=1"
   ]
  },
  {
   "cell_type": "code",
   "execution_count": null,
   "metadata": {
    "vscode": {
     "languageId": "python"
    }
   },
   "outputs": [],
   "source": []
  },
  {
   "cell_type": "code",
   "execution_count": 67,
   "metadata": {
    "vscode": {
     "languageId": "python"
    }
   },
   "outputs": [
    {
     "data": {
      "text/plain": [
       "True"
      ]
     },
     "execution_count": 67,
     "metadata": {},
     "output_type": "execute_result"
    }
   ],
   "source": [
    "img = cv2.imread(\"/home/ubuntu/data_process/result.png\")\n",
    "       # 2.灰度处理与二值化\n",
    "img_gray = cv2.cvtColor(img, cv2.COLOR_BGR2GRAY)\n",
    "ret, img_bin = cv2.threshold(img_gray, 127, 255, cv2.THRESH_BINARY)\n",
    "     # 3.连通域分析\n",
    "contours, hierarchy = cv2.findContours(img_bin, cv2.RETR_EXTERNAL,cv2.CHAIN_APPROX_SIMPLE)\n",
    "\n",
    "    # 4.制作掩膜图片\n",
    "img_mask = np.zeros(img_src.shape, np.uint8)\n",
    "img_result=cv2.drawContours(img_mask, contours, -1, (0, 0, 255), -1)\n",
    "\n",
    "cv2.imwrite(\"/home/ubuntu/data_process/test1.png\", img_result) "
   ]
  },
  {
   "cell_type": "code",
   "execution_count": 58,
   "metadata": {
    "vscode": {
     "languageId": "python"
    }
   },
   "outputs": [],
   "source": [
    "#opencv判断图像轮廓是否闭合\n",
    "import cv2\n",
    "import os\n",
    "import numpy as np\n",
    "def dContoursIsClose(image_path):\n",
    "    img = cv2.imread(image_path, cv2.IMREAD_GRAYSCALE)\n",
    "    # img_gray = cv2.cvtColor(img, cv2.COLOR_BGR2GRAY)\n",
    "    ret, img_bin = cv2.threshold(img, 127, 255, cv2.THRESH_BINARY)\n",
    "    contours, hierarchy = cv2.findContours(img_bin, cv2.RETR_CCOMP, cv2.CHAIN_APPROX_NONE)\n",
    "    fatherContoursNum = 0\n",
    "    for i in range(len(hierarchy[0])):\n",
    "        if hierarchy[0][i][3] == -1:\n",
    "            fatherContoursNum += 1\n",
    "            if hierarchy[0][i][2] == -1:\n",
    "                return False\n",
    "        else:\n",
    "            if hierarchy[0][i][3] > len(hierarchy[0]):\n",
    "                return False\n",
    "            if i == hierarchy[0][hierarchy[0][i][3]][2]:\n",
    "                pass\n",
    "            else:\n",
    "                return False\n",
    "    if fatherContoursNum != (len(hierarchy[0]) // 2):\n",
    "        return False\n",
    "    return True\n",
    "src_dir='/home/ubuntu/data_process/CT_Result/C_1'\n",
    "files = os.listdir(src_dir)\n",
    "\n",
    "for s in files:\n",
    "    if dContoursIsClose(src_dir + '/' + s):\n",
    "        img = cv2.imread(src_dir + '/' + s)\n",
    "        img_path = \"/home/ubuntu/data_process/CT_Result/C/\" + s\n",
    "        cv2.imwrite(img_path, img) \n",
    "  "
   ]
  },
  {
   "cell_type": "code",
   "execution_count": 60,
   "metadata": {
    "vscode": {
     "languageId": "python"
    }
   },
   "outputs": [
    {
     "data": {
      "text/plain": [
       "4493"
      ]
     },
     "execution_count": 60,
     "metadata": {},
     "output_type": "execute_result"
    }
   ],
   "source": [
    "len(os.listdir(\"/home/ubuntu/data_process/CT_Result/C\"))"
   ]
  },
  {
   "cell_type": "code",
   "execution_count": 133,
   "metadata": {
    "vscode": {
     "languageId": "python"
    }
   },
   "outputs": [],
   "source": [
    "#保存编号相同的文件\n",
    "import os\n",
    "import re\n",
    "import shutil\n",
    "# 获取第一个目录中的所有图像文件名\n",
    "path1='/home/ubuntu/data_process/data/imgs'\n",
    "path2='/home/ubuntu/data_process/data/masks'\n",
    "out_path='/home/ubuntu/data/mask_result'\n",
    "folder1_images = [f for f in os.listdir(path1) if os.path.isfile(os.path.join(path1, f)) ]\n",
    "\n",
    "# 获取第二个目录中的所有图像文件名\n",
    "folder2_images = [f for f in os.listdir(path2) if os.path.isfile(os.path.join(path2, f)) ]\n",
    "\n",
    "\n",
    "# 定义一个正则表达式，用于提取文件名中的编号\n",
    "pattern = re.compile(r'(\\d+)')\n",
    "\n",
    "# 将文件名相同的文件放入一个列表中\n",
    "same_name_images = []\n",
    "for image1 in folder1_images:\n",
    "    for image2 in folder2_images:\n",
    "        if pattern.search(image1).group(1) == pattern.search(image2).group(1):\n",
    "            same_name_images.append((image1, image2))\n",
    "            break\n",
    "\n",
    "\n",
    "# 创建一个新目录来保存同名文件\n",
    "# os.makedirs('path/to/new_folder', exist_ok=True)\n",
    "\n",
    "# 复制同名文件到新目录\n",
    "for image1,image2  in same_name_images:\n",
    "    image2_path = os.path.join(path2, image2)\n",
    "    shutil.copy(image2_path, out_path)\n"
   ]
  },
  {
   "cell_type": "code",
   "execution_count": 156,
   "metadata": {
    "vscode": {
     "languageId": "python"
    }
   },
   "outputs": [],
   "source": [
    "#删除图像与mask大小不一致的图片\n",
    "import os\n",
    "import re\n",
    "import shutil\n",
    "\n",
    "\n",
    "path1='/home/ubuntu/DeepLearning/U-net/Pytorch-UNet/data/imgs'\n",
    "path2='/home/ubuntu/DeepLearning/U-net/Pytorch-UNet/data/masks'\n",
    "# out_path='/home/ubuntu/data/mask_result'\n",
    "folder1_images = [f for f in os.listdir(path1) if os.path.isfile(os.path.join(path1, f)) ]\n",
    "\n",
    "# 获取第二个目录中的所有图像文件名\n",
    "folder2_images = [f for f in os.listdir(path2) if os.path.isfile(os.path.join(path2, f)) ]\n",
    "\n",
    "\n",
    "# 定义一个正则表达式，用于提取文件名中的编号\n",
    "pattern = re.compile(r'(\\d+)')\n",
    "\n",
    "# 将文件名相同的文件放入一个列表中\n",
    "same_name_images = []\n",
    "for image1 in folder1_images:\n",
    "    for image2 in folder2_images:\n",
    "        if pattern.search(image1).group(1) == pattern.search(image2).group(1):\n",
    "            same_name_images.append((image1, image2))\n",
    "            break\n",
    "\n",
    "\n",
    "# 创建一个新目录来保存同名文件\n",
    "# os.makedirs('path/to/new_folder', exist_ok=True)\n",
    "\n",
    "# 复制同名文件到新目录\n",
    "for image1,image2  in same_name_images:\n",
    "    image1_path = os.path.join(path1, image1)\n",
    "    image2_path = os.path.join(path2, image2)\n",
    "    size1=cv2.imread(image1_path).shape\n",
    "    size2=cv2.imread(image2_path).shape\n",
    "    if size1 != size2:\n",
    "       os.remove(image1_path)\n",
    "       os.remove(image2_path)\n",
    "    # cv2.imread(image1_path).shape[1]\n",
    "        \n"
   ]
  },
  {
   "cell_type": "code",
   "execution_count": 56,
   "metadata": {
    "vscode": {
     "languageId": "python"
    }
   },
   "outputs": [],
   "source": [
    "#删除图像与mask大小不一致的图片\n",
    "import os\n",
    "import re\n",
    "import shutil\n",
    "src_dir=\"/home/ubuntu/data_process/CT_Result/C\"\n",
    "files = os.listdir(src_dir)\n",
    "for s in files:\n",
    "   \n",
    "   size = cv2.imread(src_dir + '/' + s).shape\n",
    "   if size != (512,512,3):\n",
    "       os.remove(src_dir + '/' + s)\n",
    "    # cv2.imread(image1_path).shape[1]"
   ]
  },
  {
   "cell_type": "code",
   "execution_count": 57,
   "metadata": {
    "vscode": {
     "languageId": "python"
    }
   },
   "outputs": [
    {
     "data": {
      "text/plain": [
       "4490"
      ]
     },
     "execution_count": 57,
     "metadata": {},
     "output_type": "execute_result"
    }
   ],
   "source": [
    "len(os.listdir(\"/home/ubuntu/data_process/CT_Result/C\"))"
   ]
  },
  {
   "cell_type": "code",
   "execution_count": 63,
   "metadata": {
    "vscode": {
     "languageId": "python"
    }
   },
   "outputs": [
    {
     "name": "stdout",
     "output_type": "stream",
     "text": [
      "Mean contour size: 60987.71845092366\n",
      "Standard deviation of contour size: 27558.01662158359\n"
     ]
    }
   ],
   "source": [
    "import os\n",
    "import cv2\n",
    "import numpy as np\n",
    "\n",
    "folder_path = '/home/ubuntu/data_process/CT_Result/C_raw'\n",
    "\n",
    "contour_sizes = []\n",
    "for filename in os.listdir(folder_path):\n",
    "    if filename.endswith('.jpg') or filename.endswith('.png'): # 检查文件是否为图像文件\n",
    "        img = cv2.imread(os.path.join(folder_path, filename))\n",
    "        gray = cv2.cvtColor(img, cv2.COLOR_BGR2GRAY)\n",
    "        ret, thresh = cv2.threshold(gray, 127, 255, 0)\n",
    "        contours, hierarchy = cv2.findContours(thresh, cv2.RETR_EXTERNAL, cv2.CHAIN_APPROX_SIMPLE)\n",
    "        for cnt in contours:\n",
    "            contour_sizes.append(cv2.contourArea(cnt))\n",
    "\n",
    "# 计算所有轮廓大小的平均值和标准差\n",
    "mean_size = np.mean(contour_sizes)\n",
    "std_size = np.std(contour_sizes)\n",
    "print('Mean contour size:', mean_size)\n",
    "print('Standard deviation of contour size:', std_size)\n"
   ]
  },
  {
   "cell_type": "code",
   "execution_count": 66,
   "metadata": {
    "vscode": {
     "languageId": "python"
    }
   },
   "outputs": [
    {
     "data": {
      "text/plain": [
       "4493"
      ]
     },
     "execution_count": 66,
     "metadata": {},
     "output_type": "execute_result"
    }
   ],
   "source": [
    "len(contour_sizes)"
   ]
  },
  {
   "cell_type": "code",
   "execution_count": 68,
   "metadata": {
    "vscode": {
     "languageId": "python"
    }
   },
   "outputs": [
    {
     "data": {
      "text/plain": [
       "4493"
      ]
     },
     "execution_count": 68,
     "metadata": {},
     "output_type": "execute_result"
    }
   ],
   "source": [
    "len(os.listdir(\"/home/ubuntu/data_process/CT_Result/C_raw\"))"
   ]
  },
  {
   "cell_type": "code",
   "execution_count": 69,
   "metadata": {
    "vscode": {
     "languageId": "python"
    }
   },
   "outputs": [],
   "source": [
    "import os\n",
    "import cv2\n",
    "import openpyxl\n",
    "\n",
    "# 设置输入文件夹路径和输出Excel文件路径\n",
    "input_folder = \"/home/ubuntu/data_process/CT_Result/C_raw\"\n",
    "output_file = \"/home/ubuntu/data_process/CT_Result/file.xlsx\"\n",
    "\n",
    "# 创建一个Excel工作簿\n",
    "workbook = openpyxl.Workbook()\n",
    "worksheet = workbook.active\n",
    "\n",
    "# 遍历文件夹中的所有图片文件\n",
    "for filename in os.listdir(input_folder):\n",
    "    if filename.endswith(\".jpg\") or filename.endswith(\".png\"):\n",
    "        # 读取图片并转为灰度图像\n",
    "        img = cv2.imread(os.path.join(input_folder, filename))\n",
    "        gray = cv2.cvtColor(img, cv2.COLOR_BGR2GRAY)\n",
    "        \n",
    "        # 使用Canny算子进行边缘检测\n",
    "        edges = cv2.Canny(gray, 100, 200)\n",
    "        \n",
    "        # 使用findContours函数计算轮廓大小\n",
    "        contours, hierarchy = cv2.findContours(edges, cv2.RETR_EXTERNAL, cv2.CHAIN_APPROX_SIMPLE)\n",
    "        total_size = 0\n",
    "        for cnt in contours:\n",
    "            total_size += cv2.contourArea(cnt)\n",
    "        \n",
    "        # 将图片名称和轮廓大小保存到Excel表格中\n",
    "        row = (filename, total_size)\n",
    "        worksheet.append(row)\n",
    "\n",
    "# 保存Excel文件\n",
    "workbook.save(output_file)\n"
   ]
  },
  {
   "cell_type": "code",
   "execution_count": 141,
   "metadata": {
    "vscode": {
     "languageId": "python"
    }
   },
   "outputs": [
    {
     "name": "stdout",
     "output_type": "stream",
     "text": [
      "3031\n"
     ]
    },
    {
     "data": {
      "image/png": "[encoded data removed]",
      "text/plain": [
       "<Figure size 640x480 with 1 Axes>"
      ]
     },
     "metadata": {},
     "output_type": "display_data"
    }
   ],
   "source": [
    "import os\n",
    "import cv2\n",
    "import pandas as pd\n",
    "\n",
    "# 文件夹路径和输出Excel文件名\n",
    "folder_path = '/home/ubuntu/data_process/CT_Result/C_raw'\n",
    "output_file = '/home/ubuntu/data_process/CT_Result/file.xlsx'\n",
    "\n",
    "# 获取文件夹中的所有图像文件名\n",
    "image_files = [f for f in os.listdir(folder_path) if os.path.isfile(os.path.join(folder_path, f))]\n",
    "\n",
    "# 存储每个图像的名称和对应的轮廓面积\n",
    "image_areas = []\n",
    "\n",
    "# 循环遍历每个图像文件，计算轮廓大小并添加到列表中\n",
    "for filename in image_files:\n",
    "    # 读取图像并将其转换为灰度图像\n",
    "    img = cv2.imread(os.path.join(folder_path, filename), cv2.IMREAD_GRAYSCALE)\n",
    "\n",
    "    # 计算轮廓并提取其面积\n",
    "    contours, hierarchy = cv2.findContours(img, cv2.RETR_EXTERNAL, cv2.CHAIN_APPROX_SIMPLE)\n",
    "    area = cv2.contourArea(contours[0])\n",
    "\n",
    "    # 将图像名称和轮廓面积添加到列表中\n",
    "    image_areas.append({'Filename': filename, 'Contour Area': area})\n",
    "\n",
    "# 将结果保存到Excel文件中\n",
    "df = pd.DataFrame(image_areas)\n",
    "df.to_excel(output_file, index=False)\n",
    "print(len(os.listdir(\"/home/ubuntu/data_process/CT_Result/C_raw\")))\n",
    "# 绘制面积分布规律图\n",
    "import matplotlib.pyplot as plt\n",
    "plt.hist(df['Contour Area'], bins=50)\n",
    "plt.xlabel('Contour Area')\n",
    "plt.ylabel('Frequency')\n",
    "plt.title('Distribution of Contour Areas')\n",
    "plt.show()\n"
   ]
  },
  {
   "cell_type": "code",
   "execution_count": 142,
   "metadata": {
    "vscode": {
     "languageId": "python"
    }
   },
   "outputs": [
    {
     "data": {
      "image/png": "[encoded data removed]",
      "text/plain": [
       "<Figure size 500x500 with 1 Axes>"
      ]
     },
     "metadata": {},
     "output_type": "display_data"
    }
   ],
   "source": [
    "import pandas as pd\n",
    "import seaborn as sns\n",
    "image_folder=\"/home/ubuntu/data_process/CT_Result/C_raw\"\n",
    "# 从Excel文件中读取数据\n",
    "df = pd.read_excel('/home/ubuntu/data_process/CT_Result/file.xlsx')\n",
    "\n",
    "# 绘制面积分布规律图\n",
    "sns.displot(data=df, x='Contour Area', kde=True)\n",
    "\n",
    "# 删除面积值为样本极端值的图片\n",
    "threshold1 = df['Contour Area'].quantile(0.75)\n",
    "threshold2 = df['Contour Area'].quantile(0.25)\n",
    "# threshold2 = df['Contour Area'].quantile(0.25)\n",
    "outliers = df[(df['Contour Area'] > df['Contour Area'].quantile(0.75)) | (df['Contour Area'] < df['Contour Area'].quantile(0.25))]\n",
    "for filename in outliers['Filename']:\n",
    "    os.remove(os.path.join(image_folder, filename))\n"
   ]
  },
  {
   "cell_type": "code",
   "execution_count": 87,
   "metadata": {
    "vscode": {
     "languageId": "python"
    }
   },
   "outputs": [
    {
     "data": {
      "image/png": "[encoded data removed]",
      "text/plain": [
       "<Figure size 640x480 with 1 Axes>"
      ]
     },
     "metadata": {},
     "output_type": "display_data"
    }
   ],
   "source": [
    "import matplotlib.pyplot as plt\n",
    "plt.hist(df['Contour Area'], bins=50)\n",
    "plt.xlabel('Contour Area')\n",
    "plt.ylabel('Frequency')\n",
    "plt.title('Distribution of Contour Areas')\n",
    "plt.show()"
   ]
  },
  {
   "cell_type": "code",
   "execution_count": 94,
   "metadata": {
    "vscode": {
     "languageId": "python"
    }
   },
   "outputs": [],
   "source": [
    "# /home/ubuntu/data_process/CT_Result/C_raw/C_7332.png\n",
    "img = cv2.imread(\"/home/ubuntu/data_process/CT_Result/C_raw/C_7327.png\", cv2.IMREAD_GRAYSCALE)\n",
    "\n",
    "    # 计算轮廓并提取其面积\n",
    "contours, hierarchy = cv2.findContours(img, cv2.RETR_EXTERNAL, cv2.CHAIN_APPROX_SIMPLE)\n",
    "area = cv2.contourArea(contours[0])"
   ]
  },
  {
   "cell_type": "code",
   "execution_count": 95,
   "metadata": {
    "vscode": {
     "languageId": "python"
    }
   },
   "outputs": [
    {
     "data": {
      "text/plain": [
       "72416.5"
      ]
     },
     "execution_count": 95,
     "metadata": {},
     "output_type": "execute_result"
    }
   ],
   "source": [
    "area"
   ]
  },
  {
   "cell_type": "code",
   "execution_count": 131,
   "metadata": {
    "vscode": {
     "languageId": "python"
    }
   },
   "outputs": [
    {
     "name": "stdout",
     "output_type": "stream",
     "text": [
      "0.12248532706584014\n"
     ]
    }
   ],
   "source": [
    "import cv2\n",
    "import numpy as np\n",
    "\n",
    "#坐标距离法\n",
    "\n",
    "def distance_based_similarity(cnt1, cnt2):\n",
    "    # 计算两个轮廓之间的距离\n",
    "    d = cv2.matchShapes(cnt1, cnt2, cv2.CONTOURS_MATCH_I1, 0.0)\n",
    "    return d\n",
    "\n",
    "\n",
    "# 动态时间规整法（DTW）\n",
    "def dtw_similarity(cnt1, cnt2):\n",
    "    # 计算两个轮廓之间的距离矩阵\n",
    "    dist_matrix = np.zeros((len(cnt1), len(cnt2)))\n",
    "    for i in range(len(cnt1)):\n",
    "        for j in range(len(cnt2)):\n",
    "            dist_matrix[i, j] = cv2.norm(cnt1[i], cnt2[j], cv2.NORM_L2)\n",
    "\n",
    "    # 计算最小距离路径\n",
    "    cum_dist = np.zeros((len(cnt1), len(cnt2)))\n",
    "    cum_dist[0, 0] = dist_matrix[0, 0]\n",
    "    for i in range(1, len(cnt1)):\n",
    "        cum_dist[i, 0] = cum_dist[i-1, 0] + dist_matrix[i, 0]\n",
    "    for j in range(1, len(cnt2)):\n",
    "        cum_dist[0, j] = cum_dist[0, j-1] + dist_matrix[0, j]\n",
    "    for i in range(1, len(cnt1)):\n",
    "        for j in range(1, len(cnt2)):\n",
    "            cum_dist[i, j] = dist_matrix[i, j] + min(cum_dist[i-1, j], cum_dist[i, j-1], cum_dist[i-1, j-1])\n",
    "\n",
    "    # 计算距离\n",
    "    d = cum_dist[-1, -1] / (len(cnt1) + len(cnt2))\n",
    "    return d\n",
    "\n",
    "\n",
    "# 轮廓点的形状上下文（Shape Context of Contour Points）\n",
    "def shape_context_similarity(cnt1, cnt2):\n",
    "    # 计算形状上下文特征\n",
    "    extractor = cv2.createShapeContextDistance()\n",
    "    sc1=extractor.computeDistance(cnt1, cnt1)\n",
    "    sc2 =extractor.computeDistance(cnt2, cnt2)\n",
    "\n",
    "    # 计算形状上下文距离\n",
    "    d = cv2.compareHist(sc1, sc2, cv2.HISTCMP_CHISQR_ALT)\n",
    "    return d\n",
    "\n",
    "# 模板匹配（Template Matching）\n",
    "def template_matching_similarity(cnt1, cnt2):\n",
    "    # 计算轮廓外接矩形\n",
    "    x1, y1, w1, h1 = cv2.boundingRect(cnt1)\n",
    "    x2, y2, w2, h2 = cv2.boundingRect(cnt2)\n",
    "\n",
    "    # 裁剪轮廓区域\n",
    "    roi1 = cnt1[y1:y1+h1, x1:x1+w1]\n",
    "    roi2 = cnt2[y2:y2+h2, x2:x2+w2]\n",
    "\n",
    "    # 缩放轮廓\n",
    "    roi1 = cv2.resize(roi1, roi2.shape[::-1])\n",
    "    \n",
    "\n",
    "\n",
    "\n",
    "# 示例用法\n",
    "img1 = cv2.imread('/home/ubuntu/data_process/CT_Result/C_raw/C_7214.png',0)\n",
    "img2 = cv2.imread('/home/ubuntu/data_process/CT_Result/C_raw/C_1649.png',0)\n",
    "d1=distance_based_similarity(img1,img2)\n",
    "print(d1)"
   ]
  },
  {
   "cell_type": "code",
   "execution_count": 2,
   "metadata": {
    "vscode": {
     "languageId": "python"
    }
   },
   "outputs": [
    {
     "data": {
      "text/plain": [
       "True"
      ]
     },
     "execution_count": 2,
     "metadata": {},
     "output_type": "execute_result"
    }
   ],
   "source": [
    "import cv2\n",
    "\n",
    "# 读取彩色图片\n",
    "img_color = cv2.imread('/home/ubuntu/DeepLearning/U-net/Pytorch-UNet/111.jpg')\n",
    "\n",
    "# 转换为灰度图片\n",
    "img_gray = cv2.cvtColor(img_color, cv2.COLOR_BGR2GRAY)\n",
    "\n",
    "# 保存灰度图片\n",
    "cv2.imwrite('/home/ubuntu/DeepLearning/U-net/Pytorch-UNet/111gray.jpg', img_gray)\n"
   ]
  },
  {
   "cell_type": "code",
   "execution_count": null,
   "metadata": {
    "vscode": {
     "languageId": "python"
    }
   },
   "outputs": [],
   "source": []
  }
 ],
 "metadata": {
  "kernelspec": {
   "display_name": "3D",
   "language": "python",
   "name": "3d"
  }
 },
 "nbformat": 4,
 "nbformat_minor": 2
}
