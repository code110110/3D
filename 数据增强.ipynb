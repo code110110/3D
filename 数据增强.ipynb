{
 "cells": [
  {
   "cell_type": "markdown",
   "metadata": {},
   "source": [
    "## 用于灰度图像分类任务的数据增强方法\n",
    "### 1.随机旋转：随机旋转图像一定角度，增加数据集的多样性。\n",
    "### 2.随机裁剪：随机裁剪图像的一部分，并进行缩放以使其与原始图像大小相同。\n",
    "### 3.随机翻转：随机水平或垂直翻转图像，增加数据集的多样性。\n",
    "### 4.对比度增强：调整图像的对比度，增强图像的特征。\n",
    "### 5.噪声添加：向图像中添加高斯噪声或椒盐噪声，模拟真实环境中的图像变化。\n",
    "### 5.色彩变换：调整图像的亮度、饱和度和色相，增加数据集的多样性。\n",
    "### 6.形态学变换：对图像进行膨胀、腐蚀、开运算、闭运算等形态学操作，增加数据集的多样性。\n",
    "### 7.小块移动：对图像中的小块进行移动，增加数据集的多样性。"
   ]
  },
  {
   "cell_type": "code",
   "execution_count": 5,
   "metadata": {
    "vscode": {
     "languageId": "python"
    }
   },
   "outputs": [],
   "source": [
    "import cv2\n",
    "import numpy as np\n",
    "\n",
    "## 随机裁剪图像\n",
    "def random_crop(image, crop_size):\n",
    "    \"\"\"\n",
    "    随机裁剪图像\n",
    "    :param image: 输入图像\n",
    "    :param crop_size: 裁剪尺寸\n",
    "    :return: 裁剪后的图像\n",
    "    \"\"\"\n",
    "    h, w = image.shape\n",
    "    top = np.random.randint(0, h - crop_size[0])\n",
    "    left = np.random.randint(0, w - crop_size[1])\n",
    "    bottom = top + crop_size[0]\n",
    "    right = left + crop_size[1]\n",
    "    return image[top:bottom, left:right]\n",
    "\n",
    "\n",
    "## 随机旋转\n",
    "def random_rotation(image, max_angle):\n",
    "    \"\"\"\n",
    "    随机旋转图像\n",
    "    :param image: 输入图像\n",
    "    :param max_angle: 最大旋转角度\n",
    "    :return: 旋转后的图像\n",
    "    \"\"\"\n",
    "    h, w = image.shape\n",
    "    angle = np.random.uniform(-max_angle, max_angle)\n",
    "    M = cv2.getRotationMatrix2D((w/2, h/2), angle, 1)\n",
    "    return cv2.warpAffine(image, M, (w, h), borderMode=cv2.BORDER_REPLICATE)\n",
    "\n",
    "##随机翻转（Random Flip）\n",
    "\n",
    "def random_flip(image):\n",
    "    \"\"\"\n",
    "    随机翻转图像\n",
    "    :param image: 输入图像\n",
    "    :return: 翻转后的图像\n",
    "    \"\"\"\n",
    "    if np.random.rand() < 0.5:\n",
    "        return cv2.flip(image, 0)\n",
    "    else:\n",
    "        return cv2.flip(image, 1)\n",
    "def add_gaussian_noise(img, mean=0, var=0.1):\n",
    "        \n",
    "    # \"\"\"Add Gaussian noise to the input image\"\"\"\n",
    "    row, col = img.shape\n",
    "    sigma = var**0.5\n",
    "    gauss = np.random.normal(mean, sigma, (row, col))\n",
    "    gauss = gauss.reshape(row, col)\n",
    "    noisy = img + gauss\n",
    "    return noisy\n",
    "\n",
    "def add_salt_pepper_noise(img, pa, pb):\n",
    "    # \"\"\"Add salt and pepper noise to the input image\"\"\"\n",
    "    row, col = img.shape\n",
    "    amount1 = int(row*col*pa)\n",
    "    amount2 = int(row*col*pb)\n",
    "    # Add salt noise\n",
    "    coords1 = [np.random.randint(0, i-1, amount1) for i in img.shape]\n",
    "    img[coords1] = 255\n",
    "    # Add pepper noise\n",
    "    coords2 = [np.random.randint(0, i-1, amount2) for i in img.shape]\n",
    "    img[coords2] = 0\n",
    "    return img\n",
    "\n",
    "def morphology_transform(img, kernel_size=3, morph_type='erode'):\n",
    "    # \"\"\"Apply morphology transformation to the input image\"\"\"\n",
    "    kernel = cv2.getStructuringElement(cv2.MORPH_RECT, (kernel_size, kernel_size))\n",
    "    if morph_type == 'erode':\n",
    "        return cv2.erode(img, kernel, iterations=1)\n",
    "    elif morph_type == 'dilate':\n",
    "        return cv2.dilate(img, kernel, iterations=1)\n",
    "    elif morph_type == 'opening':\n",
    "        return cv2.morphologyEx(img, cv2.MORPH_OPEN, kernel)\n",
    "    elif morph_type == 'closing':\n",
    "        return cv2.morphologyEx(img, cv2.MORPH_CLOSE, kernel)\n",
    "\n",
    "def random_crop(img, crop_size=10):\n",
    "    # \"\"\"Randomly crop a small block from the input image and move it to a new location\"\"\"\n",
    "    h, w = img.shape\n",
    "    x1 = np.random.randint(0, w-crop_size)\n",
    "    y1 = np.random.randint(0, h-crop_size)\n",
    "    x2 = x1 + crop_size\n",
    "    y2 = y1 + crop_size\n",
    "    crop = img[y1:y2, x1:x2]\n",
    "    dst = np.zeros(img.shape)\n",
    "    dst[y1:y2, x1:x2] = crop\n",
    "    return dst\n"
   ]
  },
  {
   "cell_type": "code",
   "execution_count": 8,
   "metadata": {
    "vscode": {
     "languageId": "python"
    }
   },
   "outputs": [],
   "source": [
    "# Example usage\n",
    "import cv2\n",
    "import os\n",
    "src_dir='/home/ubuntu/DeepLearning/Data/Alexnet_DataSet/C'\n",
    "files = os.listdir(src_dir)\n",
    "i=0\n",
    "for s in files:\n",
    "    img = cv2.imread(src_dir + '/' + s,0)\n",
    "    # img_random_rotation=random_rotation(img,90)\n",
    "    img_random_flip=random_flip(img)\n",
    "    img_path = \"/home/ubuntu/DeepLearning/Data/Alexnet_DataSet/C/\" +'C.random_flip.'+str(i)+'.png'\n",
    "    cv2.imwrite(img_path, img_random_rotation) \n",
    "    i+=1\n"
   ]
  },
  {
   "cell_type": "code",
   "execution_count": 14,
   "metadata": {
    "vscode": {
     "languageId": "python"
    }
   },
   "outputs": [],
   "source": [
    "# Example usage\n",
    "import cv2\n",
    "import os\n",
    "src_dir='/home/ubuntu/DeepLearning/Data/Alexnet_DataSet/N'\n",
    "files = os.listdir(src_dir)\n",
    "i=0\n",
    "for s in files:\n",
    "    img = cv2.imread(src_dir + '/' + s,0)\n",
    "    img_random_rotation=random_rotation(img,45)\n",
    "    # img_random_flip=random_flip(img)\n",
    "    img_path = \"/home/ubuntu/DeepLearning/Data/Alexnet_DataSet/N/\" +'N.img_random_rotation45'+str(i)+'.png'\n",
    "    cv2.imwrite(img_path, img_random_rotation) \n",
    "    i+=1"
   ]
  },
  {
   "cell_type": "code",
   "execution_count": 9,
   "metadata": {
    "vscode": {
     "languageId": "python"
    }
   },
   "outputs": [
    {
     "data": {
      "text/plain": [
       "5916"
      ]
     },
     "execution_count": 9,
     "metadata": {},
     "output_type": "execute_result"
    }
   ],
   "source": [
    "import os\n",
    "len(os.listdir(\"/home/ubuntu/DeepLearning/Data/Alexnet_DataSet/C\"))"
   ]
  },
  {
   "cell_type": "code",
   "execution_count": 15,
   "metadata": {
    "vscode": {
     "languageId": "python"
    }
   },
   "outputs": [
    {
     "data": {
      "text/plain": [
       "3182"
      ]
     },
     "execution_count": 15,
     "metadata": {},
     "output_type": "execute_result"
    }
   ],
   "source": [
    "len(os.listdir(\"/home/ubuntu/DeepLearning/Data/Alexnet_DataSet/N\"))"
   ]
  },
  {
   "cell_type": "code",
   "execution_count": null,
   "metadata": {
    "vscode": {
     "languageId": "python"
    }
   },
   "outputs": [],
   "source": []
  }
 ],
 "metadata": {
  "kernelspec": {
   "display_name": "3D",
   "language": "python",
   "name": "3d"
  },
  "orig_nbformat": 4
 },
 "nbformat": 4,
 "nbformat_minor": 2
}
